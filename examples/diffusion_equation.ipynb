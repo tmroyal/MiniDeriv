{
 "cells": [
  {
   "cell_type": "markdown",
   "id": "354aa457",
   "metadata": {},
   "source": [
    "# Diffusion Equation\n",
    "\n",
    "Let function $u(x, t)$ satisfy the diffusion equation:\n",
    "\n",
    "$$\n",
    "\\frac{\\partial u}{\\partial t} = D \\nabla^2 u\n",
    "$$\n",
    "\n",
    "Where:\n",
    "\n",
    "$$\n",
    "u(0, t) = u(L, t) = 0\n",
    "$$"
   ]
  },
  {
   "cell_type": "code",
   "execution_count": null,
   "id": "ea585f2a",
   "metadata": {},
   "outputs": [],
   "source": [
    "import os\n",
    "import sys\n",
    "from numba import njit\n",
    "sys.path.append(os.path.abspath(\"..\"))\n",
    "from operators import lap\n",
    "\n",
    "domain = lambda _: None\n",
    "alpha = 0.1\n",
    "\n",
    "class Solver: ...\n",
    "class Storage: ...\n",
    "\n",
    "# domain of 1 meter\n",
    "u = domain(1)\n",
    "solver = Solver()\n",
    "storage = Storage()\n",
    "\n",
    "@njit\n",
    "def rhs(u, i, dx):\n",
    "    \"\"\"\n",
    "    Right-hand side of the diffusion equation.\n",
    "    \"\"\"\n",
    "    return alpha * lap(u, i, dx)\n",
    "\n",
    "solver.solve(u, rhs, storage)"
   ]
  }
 ],
 "metadata": {
  "kernelspec": {
   "display_name": ".venv",
   "language": "python",
   "name": "python3"
  },
  "language_info": {
   "codemirror_mode": {
    "name": "ipython",
    "version": 3
   },
   "file_extension": ".py",
   "mimetype": "text/x-python",
   "name": "python",
   "nbconvert_exporter": "python",
   "pygments_lexer": "ipython3",
   "version": "3.13.2"
  }
 },
 "nbformat": 4,
 "nbformat_minor": 5
}
