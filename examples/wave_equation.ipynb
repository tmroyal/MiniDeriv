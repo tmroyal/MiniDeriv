{
 "cells": [
  {
   "cell_type": "markdown",
   "id": "80dca260",
   "metadata": {},
   "source": [
    "# Wave Equation\n",
    "\n",
    "The wave equation is defined as:\n",
    "\n",
    "$$\n",
    "\\frac{\\partial^2 u}{\\partial t^2} = c^2 \\frac{\\partial^2 u}{\\partial x^2}\n",
    "$$\n",
    "\n",
    "Or:\n",
    "\n",
    "$$\n",
    "\\frac{\\partial^2 u}{\\partial t^2} = c^2 \\nabla^2 u\n",
    "$$\n",
    "\n",
    "This library does not provide a way of solving second order PDEs, so to solve this we need to create a system of two pdes:\n",
    "\n",
    "$$\n",
    "\\begin{aligned}\n",
    "\\frac{\\partial u}{\\partial t} &= v \\\\\n",
    "\\frac{\\partial v}{\\partial t} &= c^2 \\nabla^2 u\n",
    "\\end{aligned}\n",
    "$$\n",
    "\n",
    "The library does not provide the capability in order to allow experimentation."
   ]
  },
  {
   "cell_type": "code",
   "execution_count": null,
   "id": "fe88fac7",
   "metadata": {},
   "outputs": [],
   "source": [
    "import os\n",
    "import sys\n",
    "from numba import njit\n",
    "sys.path.append(os.path.abspath(\"..\"))\n",
    "from operators import lap\n",
    "\n",
    "domain = lambda _: None\n",
    "def multidomain(length, num_dimensions):\n",
    "    return None\n",
    "c2 = 1\n",
    "\n",
    "class MultiSolver: ...\n",
    "class Storage: ...\n",
    "\n",
    "# domain of 1 meter\n",
    "# u = domain(1)\n",
    "# v = domain(1)\n",
    "\n",
    "domain = multidomain(length=1, num_dimensions=2)\n",
    "\n",
    "solver = MultiSolver()\n",
    "storage = Storage()\n",
    "\n",
    "def make_rhs(c2):\n",
    "    @njit\n",
    "    def rhs(U, i, dx):\n",
    "        dv = c2 * lap(U[0], i, dx)\n",
    "        du = dv\n",
    "        return du, dv\n",
    "    return rhs\n",
    "\n",
    "solver.solve(domain, make_rhs(c2), storage)"
   ]
  }
 ],
 "metadata": {
  "kernelspec": {
   "display_name": ".venv",
   "language": "python",
   "name": "python3"
  },
  "language_info": {
   "name": "python",
   "version": "3.13.2"
  }
 },
 "nbformat": 4,
 "nbformat_minor": 5
}
